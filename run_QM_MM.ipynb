{
 "cells": [
  {
   "cell_type": "code",
   "execution_count": 1,
   "metadata": {},
   "outputs": [],
   "source": [
    "from __future__ import print_function\n",
    "#*********** Psi4 Drivers\n",
    "import psi4.core as core\n",
    "#********** OpenMM Drivers\n",
    "from simtk.openmm.app import *\n",
    "from simtk.openmm import *\n",
    "from simtk.unit import *\n",
    "#*********** QM/MM classes\n",
    "from QM_MM_classes import *\n",
    "#******** this is module that goes with sapt force field files to generate exclusions\n",
    "from sapt_exclusions import *\n",
    "#***************************\n",
    "from routines import trim_shift_PME_grid\n",
    "import numpy as np\n",
    "import scipy as scipy\n",
    "# other stuff\n",
    "from sys import stdout\n",
    "from time import gmtime, strftime\n",
    "from datetime import datetime"
   ]
  },
  {
   "cell_type": "code",
   "execution_count": 2,
   "metadata": {},
   "outputs": [],
   "source": [
    "QMatoms=(0,)\n",
    "# QM atoms and MM atoms with analytic Coulomb embedding\n",
    "# note that QMregion should be ordered ( QMatoms , ... ), otherwise method set_geometry won't work properly.\n",
    "# we currently don't have a check for this, as we anticipate that we will eventually generate QMregion automatically\n",
    "# from QMatoms using a cutoff distance\n",
    "QMregion=(0,1,2,3)\n",
    "\n",
    "# Make sure QMatoms is subset of QMregion\n",
    "if not set(QMatoms).issubset(QMregion) :\n",
    "   print(' QMatoms must be subset of QMregion !!')\n",
    "   sys.exit()"
   ]
  },
  {
   "cell_type": "code",
   "execution_count": 3,
   "metadata": {},
   "outputs": [],
   "source": [
    "DFT_functional='PBE'\n",
    "\n",
    "# *********************************************************************\n",
    "#                     Create MM system object\n",
    "#**********************************************************************\n",
    "\n",
    "# Initialize: Input list of pdb and xml files, and QMregion\n",
    "MMsys=MM( pdb_list = [ './input_files/He_5ions.pdb', ] , residue_xml_list = [ './input_files/sapt_residues.xml' , ] , ff_xml_list = [ './input_files/sapt.xml', ] , QMregion = QMregion  )\n",
    "\n",
    "# if periodic residue, call this\n",
    "#MMsys.set_periodic_residue(True)\n",
    "\n",
    "# set PME parameters.  This is important for control of accuracy for vext interpolation to DFT quadrature\n",
    "# choice of alpha:  For n=43 grid, 60 Angstrom box, OpenMM chooses alpha= 2.389328 nm^-1\n",
    "#MMsys.setPMEParameters( pme_alpha=3.0 , pme_grid_a=60 , pme_grid_b=60 , pme_grid_c=60 ) # alpha, nx, ny, nz\n",
    "MMsys.setPMEParameters( pme_alpha=2.0 , pme_grid_a=80 , pme_grid_b=80 , pme_grid_c=80 ) # alpha, nx, ny, nz\n",
    "\n",
    "#***********  Initialze OpenMM API's, this method creates simulation object\n",
    "MMsys.set_platform('Reference')   # only 'Reference' platform is currently implemented!\n",
    "\n",
    "# IMPORTANT: generate exclusions for SAPT-FF\n",
    "sapt_exclusions = sapt_generate_exclusions(MMsys.simmd, MMsys.system, MMsys.modeller.positions)\n",
    "\n",
    "# Umbrella potential on QM atoms\n",
    "#MMsys.setumbrella( 'N2', 'grph', 'C100', 2000.0 , 0.4 )   # molecule1, molecule2, atom2,  k (kJ/mol/nm^2) , r0 nm"
   ]
  },
  {
   "cell_type": "code",
   "execution_count": 4,
   "metadata": {},
   "outputs": [],
   "source": [
    "# *********************************************************************\n",
    "#                     Create QM system object\n",
    "#**********************************************************************\n",
    "\n",
    "# Define QM region and Initialize QM class\n",
    "# possible quadrature grids: see Psi4 manual\n",
    "#quadrature_grid = ( 50 , 12 )  # spherical points, radial points\n",
    "quadrature_grid = ( 302 , 75 )  # spherical points, radial points\n",
    "\n",
    "QMsys = QM( QMname = 'test' , basis = 'aug-cc-pvdz' , dft_spherical_points = quadrature_grid[0] , dft_radial_points = quadrature_grid[1] , scf_type = 'df' , qmmm='true' )\n",
    "\n",
    "# Fill QM region with atoms.  Use MMsys to get element types\n",
    "QMsys.set_QM_region( MMsys, QMregion, QMatoms )\n",
    "\n",
    "# initial QM energy, Get QM positions from MMsystem\n",
    "positions  = MMsys.get_positions_QM( QMsys )\n",
    "\n",
    "# set geometry of QM region\n",
    "QMsys.set_geometry( positions , charge = 0 )"
   ]
  },
  {
   "cell_type": "code",
   "execution_count": 8,
   "metadata": {},
   "outputs": [],
   "source": [
    "#**********************************************************************\n",
    "#                     QM/MM Simulation\n",
    "#**********************************************************************\n",
    "# Get QM positions from MMsystem\n",
    "positions  = MMsys.get_positions_QM( QMsys )\n",
    "\n",
    "#******************* External potential on PME grid ******************\n",
    "state = MMsys.simmd.context.getState(getEnergy=True,getForces=True,getVelocities=True,getPositions=True,getVext_grids=True, getPME_grid_positions=True)\n",
    "\n",
    "# external potential on PME grid\n",
    "vext_tot = state.getVext_grid()\n",
    "# PME grid positions\n",
    "PME_grid_positions = state.getPME_grid_positions()\n",
    "#** vext_tot from OpenMM is in kJ/mol/e  units, convert to Hartree for input to Psi4\n",
    "vext_tot = np.array( vext_tot ) / 2625.4996\n",
    "#** PME_grid_positions from OpenMM is in nanometers, convert to Bohr for input to Psi4\n",
    "PME_grid_positions = np.array( PME_grid_positions ) * 18.89726\n",
    "\n",
    "# update positions on QMsys\n",
    "QMsys.set_geometry( positions , charge = 0 )\n"
   ]
  },
  {
   "cell_type": "code",
   "execution_count": 9,
   "metadata": {},
   "outputs": [
    {
     "data": {
      "text/plain": [
       "array([[  0.       ,   0.       ,   0.       ],\n",
       "       [  0.       ,   0.       ,   1.4172945],\n",
       "       [  0.       ,   0.       ,   2.834589 ],\n",
       "       ...,\n",
       "       [111.9662655, 111.9662655, 109.1316765],\n",
       "       [111.9662655, 111.9662655, 110.548971 ],\n",
       "       [111.9662655, 111.9662655, 111.9662655]])"
      ]
     },
     "execution_count": 9,
     "metadata": {},
     "output_type": "execute_result"
    }
   ],
   "source": [
    "PME_grid_positions"
   ]
  },
  {
   "cell_type": "code",
   "execution_count": 14,
   "metadata": {},
   "outputs": [],
   "source": [
    "x1=PME_grid_positions[:,2]"
   ]
  },
  {
   "cell_type": "code",
   "execution_count": 15,
   "metadata": {},
   "outputs": [],
   "source": [
    "x1=x1[0:80]"
   ]
  },
  {
   "cell_type": "code",
   "execution_count": 28,
   "metadata": {},
   "outputs": [],
   "source": [
    "test=np.array([[ 4 , 4 ,4] , [ 28 , 30 , 69], [ 13 , 4 , 54]])"
   ]
  },
  {
   "cell_type": "code",
   "execution_count": 29,
   "metadata": {},
   "outputs": [],
   "source": [
    "grid=(x1 , x1 , x1)"
   ]
  },
  {
   "cell_type": "code",
   "execution_count": 30,
   "metadata": {},
   "outputs": [
    {
     "data": {
      "text/plain": [
       "array([0.00178386, 0.00183693, 0.00189106, ..., 0.00169877, 0.00165202,\n",
       "       0.00160651])"
      ]
     },
     "execution_count": 30,
     "metadata": {},
     "output_type": "execute_result"
    }
   ],
   "source": [
    "vext_tot\n"
   ]
  },
  {
   "cell_type": "code",
   "execution_count": 31,
   "metadata": {},
   "outputs": [],
   "source": [
    "vext3d = numpy.reshape(vext_tot, (80,80,80))"
   ]
  },
  {
   "cell_type": "code",
   "execution_count": 32,
   "metadata": {},
   "outputs": [],
   "source": [
    "values_x = scipy.interpolate.interpn( grid , vext3d , test, method='linear', bounds_error=True)"
   ]
  },
  {
   "cell_type": "code",
   "execution_count": 33,
   "metadata": {},
   "outputs": [
    {
     "data": {
      "text/plain": [
       "array([ 0.00157447, -0.00561606, -0.00010296])"
      ]
     },
     "execution_count": 33,
     "metadata": {},
     "output_type": "execute_result"
    }
   ],
   "source": [
    "values_x"
   ]
  },
  {
   "cell_type": "code",
   "execution_count": 34,
   "metadata": {},
   "outputs": [],
   "source": [
    "values_x1 = scipy.interpolate.griddata( PME_grid_positions , vext_tot , test , method='linear' )"
   ]
  },
  {
   "cell_type": "code",
   "execution_count": 35,
   "metadata": {},
   "outputs": [
    {
     "data": {
      "text/plain": [
       "array([ 0.00157601, -0.00561649, -0.00010232])"
      ]
     },
     "execution_count": 35,
     "metadata": {},
     "output_type": "execute_result"
    }
   ],
   "source": [
    "values_x1"
   ]
  },
  {
   "cell_type": "code",
   "execution_count": null,
   "metadata": {},
   "outputs": [],
   "source": []
  }
 ],
 "metadata": {
  "kernelspec": {
   "display_name": "Python 3",
   "language": "python",
   "name": "python3"
  },
  "language_info": {
   "codemirror_mode": {
    "name": "ipython",
    "version": 3
   },
   "file_extension": ".py",
   "mimetype": "text/x-python",
   "name": "python",
   "nbconvert_exporter": "python",
   "pygments_lexer": "ipython3",
   "version": "3.7.3"
  }
 },
 "nbformat": 4,
 "nbformat_minor": 2
}
